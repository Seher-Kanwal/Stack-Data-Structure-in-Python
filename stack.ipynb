{
 "cells": [
  {
   "cell_type": "markdown",
   "id": "2e8e48b3",
   "metadata": {},
   "source": [
    "# we are using list as a stack\n",
    "### (stack is used when we press back using browser)\n",
    " **O(1) timefor push and pop are amortized bounds (see Section 5.3.2); a typical call to either\n",
    "of these methods uses constant time, but there is occasionally an O(n)-time worst\n",
    "case, where n is the current number of elements in the stack, when an operation\n",
    "causes the list to resize its internal array. The space usage for a stack is O(n).**\n",
    "\n",
    "\n",
    "##### (In case of the limit of the list is full, we need to assign a new location and than copy all the elements on to the new location)"
   ]
  },
  {
   "cell_type": "code",
   "execution_count": 20,
   "id": "d0fd56e2",
   "metadata": {},
   "outputs": [],
   "source": [
    "list1 = []\n",
    "list1.append(\"http\\\\hell\\\\1\")\n",
    "list1.append(\"http\\\\hell\\\\2\")\n",
    "list1.append(\"http\\\\hell\\\\3\")\n",
    "list1.append(\"http\\\\hell\\\\4\")\n"
   ]
  },
  {
   "cell_type": "code",
   "execution_count": 21,
   "id": "2981da84",
   "metadata": {},
   "outputs": [
    {
     "data": {
      "text/plain": [
       "'http\\\\hell\\\\4'"
      ]
     },
     "execution_count": 21,
     "metadata": {},
     "output_type": "execute_result"
    }
   ],
   "source": [
    "list1.pop()"
   ]
  },
  {
   "cell_type": "code",
   "execution_count": 22,
   "id": "8fc991dc",
   "metadata": {},
   "outputs": [
    {
     "data": {
      "text/plain": [
       "['http\\\\hell\\\\1', 'http\\\\hell\\\\2', 'http\\\\hell\\\\3']"
      ]
     },
     "execution_count": 22,
     "metadata": {},
     "output_type": "execute_result"
    }
   ],
   "source": [
    "list1"
   ]
  },
  {
   "cell_type": "markdown",
   "id": "8b946eb6",
   "metadata": {},
   "source": [
    "### it's also return the last element but it didn't remove the element from the stack"
   ]
  },
  {
   "cell_type": "code",
   "execution_count": 23,
   "id": "fb1dfe75",
   "metadata": {},
   "outputs": [
    {
     "data": {
      "text/plain": [
       "'http\\\\hell\\\\3'"
      ]
     },
     "execution_count": 23,
     "metadata": {},
     "output_type": "execute_result"
    }
   ],
   "source": [
    "list1[-1]"
   ]
  },
  {
   "cell_type": "code",
   "execution_count": 10,
   "id": "f3a31082",
   "metadata": {},
   "outputs": [
    {
     "data": {
      "text/plain": [
       "'http\\\\hell\\\\3'"
      ]
     },
     "execution_count": 10,
     "metadata": {},
     "output_type": "execute_result"
    }
   ],
   "source": [
    "list1.pop()"
   ]
  },
  {
   "cell_type": "code",
   "execution_count": 11,
   "id": "ac286a05",
   "metadata": {},
   "outputs": [
    {
     "data": {
      "text/plain": [
       "'http\\\\hell\\\\2'"
      ]
     },
     "execution_count": 11,
     "metadata": {},
     "output_type": "execute_result"
    }
   ],
   "source": [
    "list1.pop()"
   ]
  },
  {
   "cell_type": "code",
   "execution_count": 6,
   "id": "806e9431",
   "metadata": {},
   "outputs": [
    {
     "data": {
      "text/plain": [
       "'http\\\\hell\\\\1'"
      ]
     },
     "execution_count": 6,
     "metadata": {},
     "output_type": "execute_result"
    }
   ],
   "source": [
    "list1.pop()"
   ]
  },
  {
   "cell_type": "markdown",
   "id": "03ec3218",
   "metadata": {},
   "source": [
    "## No element in the stack"
   ]
  },
  {
   "cell_type": "code",
   "execution_count": 7,
   "id": "7fb1d2e1",
   "metadata": {},
   "outputs": [
    {
     "ename": "IndexError",
     "evalue": "pop from empty list",
     "output_type": "error",
     "traceback": [
      "\u001b[1;31m---------------------------------------------------------------------------\u001b[0m",
      "\u001b[1;31mIndexError\u001b[0m                                Traceback (most recent call last)",
      "Input \u001b[1;32mIn [7]\u001b[0m, in \u001b[0;36m<cell line: 1>\u001b[1;34m()\u001b[0m\n\u001b[1;32m----> 1\u001b[0m \u001b[43mlist1\u001b[49m\u001b[38;5;241;43m.\u001b[39;49m\u001b[43mpop\u001b[49m\u001b[43m(\u001b[49m\u001b[43m)\u001b[49m\n",
      "\u001b[1;31mIndexError\u001b[0m: pop from empty list"
     ]
    }
   ],
   "source": [
    "list1.pop()"
   ]
  },
  {
   "cell_type": "markdown",
   "id": "9981e9fd",
   "metadata": {},
   "source": [
    "**The issue with using a list as a stack is that list uses dymanic array internally and when it reaches its capacity it will reallocate a big chunk of memory somewhere else in memory area and copy all the elements. For example in below diagram if a list has a capacity of 10 and we try to insert 11th element, it will not allocate new memory in a different memory region, copy all 10 elements and then insert the 11th element. So overhead here is (1) allocate new memory plus (2) copy all existing elements in new memory area**"
   ]
  },
  {
   "cell_type": "markdown",
   "id": "9ad86ed4",
   "metadata": {},
   "source": [
    "# Using Deque"
   ]
  },
  {
   "cell_type": "code",
   "execution_count": 24,
   "id": "7d705a09",
   "metadata": {},
   "outputs": [],
   "source": [
    "from collections import deque\n",
    "stack = deque()"
   ]
  },
  {
   "cell_type": "code",
   "execution_count": 25,
   "id": "89d97cc8",
   "metadata": {},
   "outputs": [
    {
     "data": {
      "text/plain": [
       "['__add__',\n",
       " '__bool__',\n",
       " '__class__',\n",
       " '__class_getitem__',\n",
       " '__contains__',\n",
       " '__copy__',\n",
       " '__delattr__',\n",
       " '__delitem__',\n",
       " '__dir__',\n",
       " '__doc__',\n",
       " '__eq__',\n",
       " '__format__',\n",
       " '__ge__',\n",
       " '__getattribute__',\n",
       " '__getitem__',\n",
       " '__gt__',\n",
       " '__hash__',\n",
       " '__iadd__',\n",
       " '__imul__',\n",
       " '__init__',\n",
       " '__init_subclass__',\n",
       " '__iter__',\n",
       " '__le__',\n",
       " '__len__',\n",
       " '__lt__',\n",
       " '__mul__',\n",
       " '__ne__',\n",
       " '__new__',\n",
       " '__reduce__',\n",
       " '__reduce_ex__',\n",
       " '__repr__',\n",
       " '__reversed__',\n",
       " '__rmul__',\n",
       " '__setattr__',\n",
       " '__setitem__',\n",
       " '__sizeof__',\n",
       " '__str__',\n",
       " '__subclasshook__',\n",
       " 'append',\n",
       " 'appendleft',\n",
       " 'clear',\n",
       " 'copy',\n",
       " 'count',\n",
       " 'extend',\n",
       " 'extendleft',\n",
       " 'index',\n",
       " 'insert',\n",
       " 'maxlen',\n",
       " 'pop',\n",
       " 'popleft',\n",
       " 'remove',\n",
       " 'reverse',\n",
       " 'rotate']"
      ]
     },
     "execution_count": 25,
     "metadata": {},
     "output_type": "execute_result"
    }
   ],
   "source": [
    "dir(stack)"
   ]
  },
  {
   "cell_type": "code",
   "execution_count": 26,
   "id": "19c2771b",
   "metadata": {},
   "outputs": [
    {
     "data": {
      "text/plain": [
       "deque(['https://www.cnn.com/india', 'https://www.cnn.com/china'])"
      ]
     },
     "execution_count": 26,
     "metadata": {},
     "output_type": "execute_result"
    }
   ],
   "source": [
    "stack.append(\"https://www.cnn.com/india\")\n",
    "stack.append(\"https://www.cnn.com/china\")\n",
    "stack"
   ]
  },
  {
   "cell_type": "code",
   "execution_count": 27,
   "id": "ecdd30c1",
   "metadata": {},
   "outputs": [
    {
     "data": {
      "text/plain": [
       "'https://www.cnn.com/china'"
      ]
     },
     "execution_count": 27,
     "metadata": {},
     "output_type": "execute_result"
    }
   ],
   "source": [
    "stack.pop()"
   ]
  },
  {
   "cell_type": "code",
   "execution_count": 28,
   "id": "1bcf3fc3",
   "metadata": {},
   "outputs": [],
   "source": [
    "stack.append(\"https://www.cnnn\")"
   ]
  },
  {
   "cell_type": "code",
   "execution_count": 34,
   "id": "84faafd3",
   "metadata": {},
   "outputs": [
    {
     "name": "stdout",
     "output_type": "stream",
     "text": [
      "<built-in method reverse of collections.deque object at 0x00000187322635E0>\n"
     ]
    },
    {
     "data": {
      "text/plain": [
       "deque(['https://www.cnnn', 'https://www.cnn.com/india'])"
      ]
     },
     "execution_count": 34,
     "metadata": {},
     "output_type": "execute_result"
    }
   ],
   "source": [
    "print(stack.reverse)\n",
    "stack"
   ]
  },
  {
   "cell_type": "markdown",
   "id": "80e23f3a",
   "metadata": {},
   "source": [
    "# Stack Implementation Using Class"
   ]
  },
  {
   "cell_type": "code",
   "execution_count": 45,
   "id": "ba5de406",
   "metadata": {},
   "outputs": [],
   "source": [
    "class stack:\n",
    "    def __init__(self):\n",
    "        # create an instant of the deque\n",
    "        self.container = deque()\n",
    "    \n",
    "    def popfn(self):\n",
    "        return self.container.pop()\n",
    "    \n",
    "    def showElement(self):\n",
    "        return self.container[-1]\n",
    "    \n",
    "    def insert(self,val):\n",
    "        return self.container.append(val)\n",
    "        \n",
    "    def length(self):\n",
    "        return len(self.container)"
   ]
  },
  {
   "cell_type": "code",
   "execution_count": 46,
   "id": "702bb7eb",
   "metadata": {},
   "outputs": [],
   "source": [
    "# object of the stack Class\n",
    "obj = stack()"
   ]
  },
  {
   "cell_type": "code",
   "execution_count": 47,
   "id": "b4a03b08",
   "metadata": {},
   "outputs": [],
   "source": [
    "obj.insert(34)"
   ]
  },
  {
   "cell_type": "code",
   "execution_count": 48,
   "id": "88f9738b",
   "metadata": {},
   "outputs": [
    {
     "data": {
      "text/plain": [
       "34"
      ]
     },
     "execution_count": 48,
     "metadata": {},
     "output_type": "execute_result"
    }
   ],
   "source": [
    "obj.popfn()"
   ]
  },
  {
   "cell_type": "code",
   "execution_count": 49,
   "id": "a1a27932",
   "metadata": {},
   "outputs": [],
   "source": [
    "obj.insert(34)\n",
    "obj.insert(341)\n",
    "obj.insert(334)"
   ]
  },
  {
   "cell_type": "code",
   "execution_count": 50,
   "id": "7582e788",
   "metadata": {},
   "outputs": [
    {
     "data": {
      "text/plain": [
       "334"
      ]
     },
     "execution_count": 50,
     "metadata": {},
     "output_type": "execute_result"
    }
   ],
   "source": [
    "obj.showElement()"
   ]
  },
  {
   "cell_type": "code",
   "execution_count": 51,
   "id": "106ad42a",
   "metadata": {},
   "outputs": [
    {
     "data": {
      "text/plain": [
       "3"
      ]
     },
     "execution_count": 51,
     "metadata": {},
     "output_type": "execute_result"
    }
   ],
   "source": [
    "obj.length()"
   ]
  }
 ],
 "metadata": {
  "kernelspec": {
   "display_name": "Python 3 (ipykernel)",
   "language": "python",
   "name": "python3"
  },
  "language_info": {
   "codemirror_mode": {
    "name": "ipython",
    "version": 3
   },
   "file_extension": ".py",
   "mimetype": "text/x-python",
   "name": "python",
   "nbconvert_exporter": "python",
   "pygments_lexer": "ipython3",
   "version": "3.9.12"
  }
 },
 "nbformat": 4,
 "nbformat_minor": 5
}
