{
 "cells": [
  {
   "cell_type": "code",
   "execution_count": 1,
   "id": "40333198",
   "metadata": {},
   "outputs": [],
   "source": [
    "from collections import deque\n",
    "stack = deque()"
   ]
  },
  {
   "cell_type": "code",
   "execution_count": 2,
   "id": "5f26262d",
   "metadata": {},
   "outputs": [
    {
     "name": "stdout",
     "output_type": "stream",
     "text": [
      "Enter any string to reverse: We will conquere COVID-19\n"
     ]
    }
   ],
   "source": [
    "x = input(\"Enter any string to reverse: \")"
   ]
  },
  {
   "cell_type": "code",
   "execution_count": 3,
   "id": "b4cedd21",
   "metadata": {},
   "outputs": [],
   "source": [
    "for char in x:\n",
    "    stack.append(char)"
   ]
  },
  {
   "cell_type": "code",
   "execution_count": 4,
   "id": "d8e379d8",
   "metadata": {},
   "outputs": [
    {
     "data": {
      "text/plain": [
       "deque(['W',\n",
       "       'e',\n",
       "       ' ',\n",
       "       'w',\n",
       "       'i',\n",
       "       'l',\n",
       "       'l',\n",
       "       ' ',\n",
       "       'c',\n",
       "       'o',\n",
       "       'n',\n",
       "       'q',\n",
       "       'u',\n",
       "       'e',\n",
       "       'r',\n",
       "       'e',\n",
       "       ' ',\n",
       "       'C',\n",
       "       'O',\n",
       "       'V',\n",
       "       'I',\n",
       "       'D',\n",
       "       '-',\n",
       "       '1',\n",
       "       '9'])"
      ]
     },
     "execution_count": 4,
     "metadata": {},
     "output_type": "execute_result"
    }
   ],
   "source": [
    "stack"
   ]
  },
  {
   "cell_type": "code",
   "execution_count": 5,
   "id": "6937b2cc",
   "metadata": {},
   "outputs": [],
   "source": [
    "y = \" \"\n",
    "while len(stack)!= 0:\n",
    "    y += stack.pop()"
   ]
  },
  {
   "cell_type": "code",
   "execution_count": 6,
   "id": "303f3fb8",
   "metadata": {},
   "outputs": [
    {
     "data": {
      "text/plain": [
       "' 91-DIVOC ereuqnoc lliw eW'"
      ]
     },
     "execution_count": 6,
     "metadata": {},
     "output_type": "execute_result"
    }
   ],
   "source": [
    "y"
   ]
  },
  {
   "cell_type": "code",
   "execution_count": null,
   "id": "90037c6a",
   "metadata": {},
   "outputs": [],
   "source": []
  }
 ],
 "metadata": {
  "kernelspec": {
   "display_name": "Python 3 (ipykernel)",
   "language": "python",
   "name": "python3"
  },
  "language_info": {
   "codemirror_mode": {
    "name": "ipython",
    "version": 3
   },
   "file_extension": ".py",
   "mimetype": "text/x-python",
   "name": "python",
   "nbconvert_exporter": "python",
   "pygments_lexer": "ipython3",
   "version": "3.9.12"
  }
 },
 "nbformat": 4,
 "nbformat_minor": 5
}
